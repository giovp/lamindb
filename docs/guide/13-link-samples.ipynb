{
 "cells": [
  {
   "attachments": {},
   "cell_type": "markdown",
   "id": "b5fc74a4",
   "metadata": {},
   "source": [
    "# Track sample-level metadata"
   ]
  },
  {
   "attachments": {},
   "cell_type": "markdown",
   "id": "198a10f0",
   "metadata": {},
   "source": [
    "We already saw how to link data objects to entities representing features during ingestion.\n",
    "\n",
    "For sample-level metadata, the underlying schema is often more complicated, and hence it's best done in a separate step.\n",
    "\n",
    "Here, we walk through this process."
   ]
  },
  {
   "cell_type": "code",
   "execution_count": 1,
   "id": "21af215e",
   "metadata": {},
   "outputs": [
    {
     "name": "stdout",
     "output_type": "stream",
     "text": [
      "ℹ️ Instance: laminlabs/lamindata\n",
      "ℹ️ User: giovp\n",
      "✅ Added: Transform(id='zMCvXplQ8kTk', version='0', name='13-link-samples', type=notebook, title='Track sample-level metadata', created_by_id='eut8h4zv', created_at=datetime.datetime(2023, 5, 21, 16, 15, 42, 543607))\n",
      "✅ Added: Run(id='8j9qIW97Md3PnCwf41bY', transform_id='zMCvXplQ8kTk', transform_version='0', created_by_id='eut8h4zv', created_at=datetime.datetime(2023, 5, 21, 16, 15, 43, 810085))\n"
     ]
    }
   ],
   "source": [
    "import lamindb as ln\n",
    "import lnschema_bionty as bt\n",
    "import lnschema_lamin1 as ln1\n",
    "\n",
    "ln.track()"
   ]
  },
  {
   "attachments": {},
   "cell_type": "markdown",
   "id": "f7bffead",
   "metadata": {},
   "source": [
    "Samples, i.e., metadata associated with observations, are linked with the same approach post-ingestion."
   ]
  },
  {
   "attachments": {},
   "cell_type": "markdown",
   "id": "6b5c6550",
   "metadata": {},
   "source": [
    "We'll need to lazily relationships of objects, and hence, we need to keep track of a session."
   ]
  },
  {
   "cell_type": "code",
   "execution_count": 2,
   "id": "1d48daa5",
   "metadata": {},
   "outputs": [],
   "source": [
    "ss = ln.Session()"
   ]
  },
  {
   "attachments": {},
   "cell_type": "markdown",
   "id": "6747e862",
   "metadata": {},
   "source": [
    "Let's first query an scRNA-seq dataset stored as an `.h5ad` file."
   ]
  },
  {
   "cell_type": "code",
   "execution_count": 3,
   "id": "b43c43e4",
   "metadata": {},
   "outputs": [],
   "source": [
    "file = ss.select(ln.File, suffix=\".h5ad\").first()"
   ]
  },
  {
   "cell_type": "code",
   "execution_count": 4,
   "id": "f6163fb2-a387-41f6-b7bc-3190bce55a26",
   "metadata": {},
   "outputs": [
    {
     "data": {
      "text/plain": [
       "[session open] File(id='WGDHevIgEDPJ6CB99foT', name='tabula-muris-senis-facs-processed-official-annotations.h5ad', suffix='.h5ad', size=4795677086, key='Data-objects/tabula-muris-senis-facs-processed-official-annotations.h5ad', run_id='xqGUIfF1YLq2h70zl51J', transform_id='FqmyAmP74zEB', transform_version='0', storage_id='fw2dGZSl', created_at=datetime.datetime(2023, 4, 24, 18, 16, 32, 313696), created_by_id='FBa7SHjn')"
      ]
     },
     "execution_count": 4,
     "metadata": {},
     "output_type": "execute_result"
    }
   ],
   "source": [
    "file"
   ]
  },
  {
   "attachments": {},
   "cell_type": "markdown",
   "id": "f78f29e2",
   "metadata": {},
   "source": [
    "For instance, let's annotate a scRNA-seq dataset with its readout type (scRNA-seq), the tissue, and the species."
   ]
  },
  {
   "attachments": {},
   "cell_type": "markdown",
   "id": "93c6a1ea",
   "metadata": {},
   "source": [
    "## Readout"
   ]
  },
  {
   "cell_type": "code",
   "execution_count": 5,
   "id": "4b48f82c",
   "metadata": {},
   "outputs": [
    {
     "data": {
      "text/plain": [
       "readout(index=7409, ontology_id='EFO:0008913', name='single-cell RNA sequencing')"
      ]
     },
     "execution_count": 5,
     "metadata": {},
     "output_type": "execute_result"
    }
   ],
   "source": [
    "ro_lookup = bt.Readout.bionty.lookup()\n",
    "scrnaseq = ro_lookup.single_cell_RNA_sequencing\n",
    "\n",
    "scrnaseq"
   ]
  },
  {
   "cell_type": "code",
   "execution_count": 6,
   "id": "dbf8ac7b",
   "metadata": {},
   "outputs": [
    {
     "data": {
      "text/plain": [
       "Readout(id='QAjOPfts', name='single-cell RNA sequencing', created_by='eut8h4zv')"
      ]
     },
     "execution_count": 6,
     "metadata": {},
     "output_type": "execute_result"
    }
   ],
   "source": [
    "readout = bt.Readout(name=scrnaseq.name)\n",
    "\n",
    "readout"
   ]
  },
  {
   "attachments": {},
   "cell_type": "markdown",
   "id": "867ded79-18ab-4b48-9ef1-3ede7cb61fb6",
   "metadata": {},
   "source": [
    "Link the readout against the data object."
   ]
  },
  {
   "cell_type": "code",
   "execution_count": 7,
   "id": "7117701d-eda9-4a1a-a011-f2fb1b9c49ff",
   "metadata": {},
   "outputs": [],
   "source": [
    "file.readouts.append(readout)"
   ]
  },
  {
   "attachments": {},
   "cell_type": "markdown",
   "id": "051a01d6-df60-4a60-ac01-6a801d71cf67",
   "metadata": {},
   "source": [
    "## Biosample"
   ]
  },
  {
   "cell_type": "code",
   "execution_count": 8,
   "id": "04a89a94",
   "metadata": {},
   "outputs": [],
   "source": [
    "biosample = ln1.Biosample(name=\"Mouse Lymph Node\")"
   ]
  },
  {
   "attachments": {},
   "cell_type": "markdown",
   "id": "0aa6b90d",
   "metadata": {},
   "source": [
    "### Species"
   ]
  },
  {
   "attachments": {},
   "cell_type": "markdown",
   "id": "c55c521f",
   "metadata": {},
   "source": [
    "We already have mouse in the database, hence let's just query it. No need to create a new record."
   ]
  },
  {
   "cell_type": "code",
   "execution_count": 9,
   "id": "cf1ed961",
   "metadata": {},
   "outputs": [
    {
     "ename": "NoResultFound",
     "evalue": "()",
     "output_type": "error",
     "traceback": [
      "\u001b[0;31m---------------------------------------------------------------------------\u001b[0m",
      "\u001b[0;31mNoResultFound\u001b[0m                             Traceback (most recent call last)",
      "Cell \u001b[0;32mIn[9], line 1\u001b[0m\n\u001b[0;32m----> 1\u001b[0m species \u001b[39m=\u001b[39m ln\u001b[39m.\u001b[39;49mselect(bt\u001b[39m.\u001b[39;49mSpecies, name\u001b[39m=\u001b[39;49m\u001b[39m\"\u001b[39;49m\u001b[39mmouse\u001b[39;49m\u001b[39m\"\u001b[39;49m)\u001b[39m.\u001b[39;49mone()\n\u001b[1;32m      3\u001b[0m species\n",
      "File \u001b[0;32m~/miniconda3/envs/lamin/lib/python3.10/site-packages/lamindb/dev/db/_select.py:150\u001b[0m, in \u001b[0;36mExecStmt.one\u001b[0;34m(self)\u001b[0m\n\u001b[1;32m    148\u001b[0m \u001b[39mself\u001b[39m\u001b[39m.\u001b[39m_execute()\n\u001b[1;32m    149\u001b[0m \u001b[39mif\u001b[39;00m \u001b[39mlen\u001b[39m(\u001b[39mself\u001b[39m\u001b[39m.\u001b[39m_result) \u001b[39m==\u001b[39m \u001b[39m0\u001b[39m:\n\u001b[0;32m--> 150\u001b[0m     \u001b[39mraise\u001b[39;00m NoResultFound\n\u001b[1;32m    151\u001b[0m \u001b[39melif\u001b[39;00m \u001b[39mlen\u001b[39m(\u001b[39mself\u001b[39m\u001b[39m.\u001b[39m_result) \u001b[39m>\u001b[39m \u001b[39m1\u001b[39m:\n\u001b[1;32m    152\u001b[0m     \u001b[39mraise\u001b[39;00m MultipleResultsFound\n",
      "\u001b[0;31mNoResultFound\u001b[0m: ()"
     ]
    }
   ],
   "source": [
    "species = ln.select(bt.Species, name=\"mouse\").one()\n",
    "\n",
    "species"
   ]
  },
  {
   "cell_type": "code",
   "execution_count": null,
   "id": "16aed80c-2ab0-4a7a-b73d-1a74e5370ae4",
   "metadata": {},
   "outputs": [],
   "source": [
    "biosample.species = species"
   ]
  },
  {
   "attachments": {},
   "cell_type": "markdown",
   "id": "b81e6ddf",
   "metadata": {},
   "source": [
    "### Tissue"
   ]
  },
  {
   "cell_type": "code",
   "execution_count": 10,
   "id": "dce787a2",
   "metadata": {},
   "outputs": [
    {
     "name": "stdout",
     "output_type": "stream",
     "text": [
      "ℹ️ Downloading Tissue reference for the first time might take a while...\n"
     ]
    },
    {
     "data": {
      "application/vnd.jupyter.widget-view+json": {
       "model_id": "df9ead257749412fae92dd1a717fc7e1",
       "version_major": 2,
       "version_minor": 0
      },
      "text/plain": [
       "Output()"
      ]
     },
     "metadata": {},
     "output_type": "display_data"
    },
    {
     "data": {
      "text/html": [
       "<pre style=\"white-space:pre;overflow-x:auto;line-height:normal;font-family:Menlo,'DejaVu Sans Mono',consolas,'Courier New',monospace\"></pre>\n"
      ],
      "text/plain": []
     },
     "metadata": {},
     "output_type": "display_data"
    },
    {
     "data": {
      "text/html": [
       "<pre style=\"white-space:pre;overflow-x:auto;line-height:normal;font-family:Menlo,'DejaVu Sans Mono',consolas,'Courier New',monospace\">\n",
       "</pre>\n"
      ],
      "text/plain": [
       "\n"
      ]
     },
     "metadata": {},
     "output_type": "display_data"
    }
   ],
   "source": [
    "tissue_lookup = bt.Tissue.bionty.lookup()"
   ]
  },
  {
   "cell_type": "code",
   "execution_count": 11,
   "id": "8cdc01c8",
   "metadata": {},
   "outputs": [
    {
     "data": {
      "text/plain": [
       "tissue(ontology_id='UBERON:0000029', name='lymph node')"
      ]
     },
     "execution_count": 11,
     "metadata": {},
     "output_type": "execute_result"
    }
   ],
   "source": [
    "tissue_lookup.lymph_node"
   ]
  },
  {
   "cell_type": "code",
   "execution_count": 12,
   "id": "e19e0613",
   "metadata": {},
   "outputs": [],
   "source": [
    "tissue = bt.Tissue(name=tissue_lookup.lymph_node.name)"
   ]
  },
  {
   "cell_type": "code",
   "execution_count": 13,
   "id": "742d5ac7",
   "metadata": {},
   "outputs": [
    {
     "data": {
      "text/plain": [
       "Tissue(id='Weo9RFmc', name='lymph node')"
      ]
     },
     "execution_count": 13,
     "metadata": {},
     "output_type": "execute_result"
    }
   ],
   "source": [
    "tissue"
   ]
  },
  {
   "cell_type": "code",
   "execution_count": 14,
   "id": "72d84b8b-7418-4bb9-bf15-aa1af6502d60",
   "metadata": {},
   "outputs": [],
   "source": [
    "biosample.tissue = tissue"
   ]
  },
  {
   "attachments": {},
   "cell_type": "markdown",
   "id": "7e358247-0319-4632-a74f-da17de7eb81d",
   "metadata": {},
   "source": [
    "## Link against file"
   ]
  },
  {
   "attachments": {},
   "cell_type": "markdown",
   "id": "33ad35b8-85c8-4662-bb3f-a7e25b2fb6c4",
   "metadata": {},
   "source": [
    "Link against the data object:"
   ]
  },
  {
   "cell_type": "code",
   "execution_count": 15,
   "id": "d0a3783a-370d-4648-8bd1-6776f014b0f5",
   "metadata": {},
   "outputs": [],
   "source": [
    "file.biosamples.append(biosample)"
   ]
  },
  {
   "attachments": {},
   "cell_type": "markdown",
   "id": "fec05be3-6d70-4092-a72f-e5ad24391f9d",
   "metadata": {},
   "source": [
    "## Add to the DB"
   ]
  },
  {
   "attachments": {},
   "cell_type": "markdown",
   "id": "49d4ced3-a587-4808-b2f1-71853861511c",
   "metadata": {},
   "source": [
    "We can add everything to the DB in one transaction:"
   ]
  },
  {
   "cell_type": "code",
   "execution_count": 16,
   "id": "35a3f206-6d8a-4102-8bc0-a8ee1819c101",
   "metadata": {},
   "outputs": [
    {
     "data": {
      "text/plain": [
       "[[session open] Readout(id='QAjOPfts', name='single-cell RNA sequencing', created_by='eut8h4zv', created_at=datetime.datetime(2023, 5, 21, 16, 15, 50, 771114)),\n",
       " [session open] Biosample(id='on5SsBJxryzXTMtzjZmI', name='Mouse Lymph Node', created_by='eut8h4zv', created_at=datetime.datetime(2023, 5, 21, 16, 15, 50, 771114), tissue_id='Weo9RFmc')]"
      ]
     },
     "execution_count": 16,
     "metadata": {},
     "output_type": "execute_result"
    }
   ],
   "source": [
    "ss.add([readout, biosample])"
   ]
  },
  {
   "attachments": {},
   "cell_type": "markdown",
   "id": "fab756d7",
   "metadata": {},
   "source": [
    "Let us close the session."
   ]
  },
  {
   "cell_type": "code",
   "execution_count": 17,
   "id": "a823c937",
   "metadata": {},
   "outputs": [],
   "source": [
    "ss.close()"
   ]
  },
  {
   "attachments": {},
   "cell_type": "markdown",
   "id": "ba9752fe",
   "metadata": {},
   "source": [
    "```{Tip}\n",
    "\n",
    "Manage `Session` closing with a context manager instead of manually closing it!\n",
    "\n",
    "With it the above would look like:\n",
    "\n",
    "```{code}\n",
    "with ln.Session() as ss:\n",
    "    # manipulate data\n",
    "```"
   ]
  },
  {
   "attachments": {},
   "cell_type": "markdown",
   "id": "1d8e6dc4",
   "metadata": {},
   "source": [
    "## Query for linked metadata"
   ]
  },
  {
   "cell_type": "code",
   "execution_count": 18,
   "id": "e984d97e-c295-4257-a5bf-fb2347ce3678",
   "metadata": {},
   "outputs": [
    {
     "data": {
      "text/html": [
       "<div>\n",
       "<style scoped>\n",
       "    .dataframe tbody tr th:only-of-type {\n",
       "        vertical-align: middle;\n",
       "    }\n",
       "\n",
       "    .dataframe tbody tr th {\n",
       "        vertical-align: top;\n",
       "    }\n",
       "\n",
       "    .dataframe thead th {\n",
       "        text-align: right;\n",
       "    }\n",
       "</style>\n",
       "<table border=\"1\" class=\"dataframe\">\n",
       "  <thead>\n",
       "    <tr style=\"text-align: right;\">\n",
       "      <th></th>\n",
       "      <th>name</th>\n",
       "      <th>suffix</th>\n",
       "      <th>size</th>\n",
       "      <th>hash</th>\n",
       "      <th>key</th>\n",
       "      <th>run_id</th>\n",
       "      <th>transform_id</th>\n",
       "      <th>transform_version</th>\n",
       "      <th>storage_id</th>\n",
       "      <th>created_at</th>\n",
       "      <th>updated_at</th>\n",
       "      <th>created_by_id</th>\n",
       "    </tr>\n",
       "    <tr>\n",
       "      <th>id</th>\n",
       "      <th></th>\n",
       "      <th></th>\n",
       "      <th></th>\n",
       "      <th></th>\n",
       "      <th></th>\n",
       "      <th></th>\n",
       "      <th></th>\n",
       "      <th></th>\n",
       "      <th></th>\n",
       "      <th></th>\n",
       "      <th></th>\n",
       "      <th></th>\n",
       "    </tr>\n",
       "  </thead>\n",
       "  <tbody>\n",
       "    <tr>\n",
       "      <th>WGDHevIgEDPJ6CB99foT</th>\n",
       "      <td>tabula-muris-senis-facs-processed-official-ann...</td>\n",
       "      <td>.h5ad</td>\n",
       "      <td>4795677086</td>\n",
       "      <td>None</td>\n",
       "      <td>Data-objects/tabula-muris-senis-facs-processed...</td>\n",
       "      <td>xqGUIfF1YLq2h70zl51J</td>\n",
       "      <td>FqmyAmP74zEB</td>\n",
       "      <td>0</td>\n",
       "      <td>fw2dGZSl</td>\n",
       "      <td>2023-04-24 18:16:32.313696</td>\n",
       "      <td>None</td>\n",
       "      <td>FBa7SHjn</td>\n",
       "    </tr>\n",
       "  </tbody>\n",
       "</table>\n",
       "</div>"
      ],
      "text/plain": [
       "                                                                   name  \\\n",
       "id                                                                        \n",
       "WGDHevIgEDPJ6CB99foT  tabula-muris-senis-facs-processed-official-ann...   \n",
       "\n",
       "                     suffix        size  hash  \\\n",
       "id                                              \n",
       "WGDHevIgEDPJ6CB99foT  .h5ad  4795677086  None   \n",
       "\n",
       "                                                                    key  \\\n",
       "id                                                                        \n",
       "WGDHevIgEDPJ6CB99foT  Data-objects/tabula-muris-senis-facs-processed...   \n",
       "\n",
       "                                    run_id  transform_id transform_version  \\\n",
       "id                                                                           \n",
       "WGDHevIgEDPJ6CB99foT  xqGUIfF1YLq2h70zl51J  FqmyAmP74zEB                 0   \n",
       "\n",
       "                     storage_id                 created_at updated_at  \\\n",
       "id                                                                      \n",
       "WGDHevIgEDPJ6CB99foT   fw2dGZSl 2023-04-24 18:16:32.313696       None   \n",
       "\n",
       "                     created_by_id  \n",
       "id                                  \n",
       "WGDHevIgEDPJ6CB99foT      FBa7SHjn  "
      ]
     },
     "execution_count": 18,
     "metadata": {},
     "output_type": "execute_result"
    }
   ],
   "source": [
    "ln.select(ln.File).where(\n",
    "    ln.File.readouts,\n",
    "    bt.Readout.name == scrnaseq.name,\n",
    ").df()"
   ]
  },
  {
   "cell_type": "code",
   "execution_count": 19,
   "id": "6350f154",
   "metadata": {},
   "outputs": [
    {
     "data": {
      "text/html": [
       "<div>\n",
       "<style scoped>\n",
       "    .dataframe tbody tr th:only-of-type {\n",
       "        vertical-align: middle;\n",
       "    }\n",
       "\n",
       "    .dataframe tbody tr th {\n",
       "        vertical-align: top;\n",
       "    }\n",
       "\n",
       "    .dataframe thead th {\n",
       "        text-align: right;\n",
       "    }\n",
       "</style>\n",
       "<table border=\"1\" class=\"dataframe\">\n",
       "  <thead>\n",
       "    <tr style=\"text-align: right;\">\n",
       "      <th></th>\n",
       "      <th>id</th>\n",
       "      <th>name</th>\n",
       "      <th>suffix</th>\n",
       "      <th>size</th>\n",
       "      <th>hash</th>\n",
       "      <th>key</th>\n",
       "      <th>run_id</th>\n",
       "      <th>transform_id</th>\n",
       "      <th>transform_version</th>\n",
       "      <th>storage_id</th>\n",
       "      <th>created_at</th>\n",
       "      <th>updated_at</th>\n",
       "      <th>created_by_id</th>\n",
       "    </tr>\n",
       "  </thead>\n",
       "  <tbody>\n",
       "  </tbody>\n",
       "</table>\n",
       "</div>"
      ],
      "text/plain": [
       "Empty DataFrame\n",
       "Columns: [id, name, suffix, size, hash, key, run_id, transform_id, transform_version, storage_id, created_at, updated_at, created_by_id]\n",
       "Index: []"
      ]
     },
     "execution_count": 19,
     "metadata": {},
     "output_type": "execute_result"
    }
   ],
   "source": [
    "ln.select(ln.File).join(ln.File.biosamples).where(\n",
    "    ln1.Biosample.species, bt.Species.name == \"mouse\"\n",
    ").df()"
   ]
  },
  {
   "attachments": {},
   "cell_type": "markdown",
   "id": "6e6fd0e8",
   "metadata": {},
   "source": [
    "## What's in the database?"
   ]
  },
  {
   "attachments": {},
   "cell_type": "markdown",
   "id": "fd635d73",
   "metadata": {},
   "source": [
    "### Biological entities"
   ]
  },
  {
   "cell_type": "code",
   "execution_count": 20,
   "id": "ac24e364",
   "metadata": {},
   "outputs": [
    {
     "name": "stdout",
     "output_type": "stream",
     "text": [
      "******************\n",
      "* module: \u001b[1;92m\u001b[1mbionty\u001b[0m\u001b[0m *\n",
      "******************\n",
      "\u001b[1;94m\u001b[1mCellType\u001b[0m\u001b[0m\n"
     ]
    },
    {
     "data": {
      "text/html": [
       "<div>\n",
       "<style scoped>\n",
       "    .dataframe tbody tr th:only-of-type {\n",
       "        vertical-align: middle;\n",
       "    }\n",
       "\n",
       "    .dataframe tbody tr th {\n",
       "        vertical-align: top;\n",
       "    }\n",
       "\n",
       "    .dataframe thead th {\n",
       "        text-align: right;\n",
       "    }\n",
       "</style>\n",
       "<table border=\"1\" class=\"dataframe\">\n",
       "  <thead>\n",
       "    <tr style=\"text-align: right;\">\n",
       "      <th></th>\n",
       "      <th>ontology_id</th>\n",
       "      <th>name</th>\n",
       "    </tr>\n",
       "    <tr>\n",
       "      <th>id</th>\n",
       "      <th></th>\n",
       "      <th></th>\n",
       "    </tr>\n",
       "  </thead>\n",
       "  <tbody>\n",
       "    <tr>\n",
       "      <th>0aMjyguT</th>\n",
       "      <td>CL:0000012</td>\n",
       "      <td>obsolete cell by class</td>\n",
       "    </tr>\n",
       "    <tr>\n",
       "      <th>xWomRiU6</th>\n",
       "      <td>CL:0000024</td>\n",
       "      <td>oogonial cell</td>\n",
       "    </tr>\n",
       "    <tr>\n",
       "      <th>0JAxlL0C</th>\n",
       "      <td>CL:0000073</td>\n",
       "      <td>barrier epithelial cell</td>\n",
       "    </tr>\n",
       "    <tr>\n",
       "      <th>NZ0k2Rqf</th>\n",
       "      <td>CL:0000062</td>\n",
       "      <td>osteoblast</td>\n",
       "    </tr>\n",
       "    <tr>\n",
       "      <th>1Lnwga1C</th>\n",
       "      <td>CL:0000054</td>\n",
       "      <td>bone matrix secreting cell</td>\n",
       "    </tr>\n",
       "    <tr>\n",
       "      <th>d7Oib6HL</th>\n",
       "      <td>CL:0000014</td>\n",
       "      <td>germ line stem cell</td>\n",
       "    </tr>\n",
       "    <tr>\n",
       "      <th>Zo6JGi9b</th>\n",
       "      <td>CL:0000056</td>\n",
       "      <td>myoblast</td>\n",
       "    </tr>\n",
       "    <tr>\n",
       "      <th>0SaUnph0</th>\n",
       "      <td>CL:0000182</td>\n",
       "      <td>hepatocyte</td>\n",
       "    </tr>\n",
       "    <tr>\n",
       "      <th>wXQeNauN</th>\n",
       "      <td>None</td>\n",
       "      <td>my new cell type</td>\n",
       "    </tr>\n",
       "    <tr>\n",
       "      <th>QvYE8bIq</th>\n",
       "      <td>CL:0000084</td>\n",
       "      <td>T cell</td>\n",
       "    </tr>\n",
       "  </tbody>\n",
       "</table>\n",
       "</div>"
      ],
      "text/plain": [
       "         ontology_id                        name\n",
       "id                                              \n",
       "0aMjyguT  CL:0000012      obsolete cell by class\n",
       "xWomRiU6  CL:0000024               oogonial cell\n",
       "0JAxlL0C  CL:0000073     barrier epithelial cell\n",
       "NZ0k2Rqf  CL:0000062                  osteoblast\n",
       "1Lnwga1C  CL:0000054  bone matrix secreting cell\n",
       "d7Oib6HL  CL:0000014         germ line stem cell\n",
       "Zo6JGi9b  CL:0000056                    myoblast\n",
       "0SaUnph0  CL:0000182                  hepatocyte\n",
       "wXQeNauN        None            my new cell type\n",
       "QvYE8bIq  CL:0000084                      T cell"
      ]
     },
     "metadata": {},
     "output_type": "display_data"
    },
    {
     "name": "stdout",
     "output_type": "stream",
     "text": [
      "\u001b[1;94m\u001b[1mGene\u001b[0m\u001b[0m\n"
     ]
    },
    {
     "data": {
      "text/html": [
       "<div>\n",
       "<style scoped>\n",
       "    .dataframe tbody tr th:only-of-type {\n",
       "        vertical-align: middle;\n",
       "    }\n",
       "\n",
       "    .dataframe tbody tr th {\n",
       "        vertical-align: top;\n",
       "    }\n",
       "\n",
       "    .dataframe thead th {\n",
       "        text-align: right;\n",
       "    }\n",
       "</style>\n",
       "<table border=\"1\" class=\"dataframe\">\n",
       "  <thead>\n",
       "    <tr style=\"text-align: right;\">\n",
       "      <th></th>\n",
       "      <th></th>\n",
       "      <th>ensembl_gene_id</th>\n",
       "      <th>symbol</th>\n",
       "      <th>gene_type</th>\n",
       "      <th>description</th>\n",
       "      <th>ncbi_gene_id</th>\n",
       "      <th>hgnc_id</th>\n",
       "      <th>mgi_id</th>\n",
       "      <th>omim_id</th>\n",
       "      <th>synonyms</th>\n",
       "      <th>species_id</th>\n",
       "    </tr>\n",
       "    <tr>\n",
       "      <th>id</th>\n",
       "      <th>version</th>\n",
       "      <th></th>\n",
       "      <th></th>\n",
       "      <th></th>\n",
       "      <th></th>\n",
       "      <th></th>\n",
       "      <th></th>\n",
       "      <th></th>\n",
       "      <th></th>\n",
       "      <th></th>\n",
       "      <th></th>\n",
       "    </tr>\n",
       "  </thead>\n",
       "  <tbody>\n",
       "    <tr>\n",
       "      <th>fk6Q3O0U</th>\n",
       "      <th>NaN</th>\n",
       "      <td>ENSG00000286699</td>\n",
       "      <td>None</td>\n",
       "      <td>None</td>\n",
       "      <td>None</td>\n",
       "      <td>NaN</td>\n",
       "      <td>None</td>\n",
       "      <td>None</td>\n",
       "      <td>NaN</td>\n",
       "      <td>None</td>\n",
       "      <td>sSfX</td>\n",
       "    </tr>\n",
       "    <tr>\n",
       "      <th>KP2vA5Vv</th>\n",
       "      <th>NaN</th>\n",
       "      <td>ENSG00000271409</td>\n",
       "      <td>None</td>\n",
       "      <td>None</td>\n",
       "      <td>None</td>\n",
       "      <td>NaN</td>\n",
       "      <td>None</td>\n",
       "      <td>None</td>\n",
       "      <td>NaN</td>\n",
       "      <td>None</td>\n",
       "      <td>sSfX</td>\n",
       "    </tr>\n",
       "    <tr>\n",
       "      <th>xu1Xj3vJ</th>\n",
       "      <th>NaN</th>\n",
       "      <td>ENSG00000244952</td>\n",
       "      <td>None</td>\n",
       "      <td>None</td>\n",
       "      <td>None</td>\n",
       "      <td>NaN</td>\n",
       "      <td>None</td>\n",
       "      <td>None</td>\n",
       "      <td>NaN</td>\n",
       "      <td>None</td>\n",
       "      <td>sSfX</td>\n",
       "    </tr>\n",
       "    <tr>\n",
       "      <th>WPp81VuU</th>\n",
       "      <th>NaN</th>\n",
       "      <td>ENSG00000255823</td>\n",
       "      <td>None</td>\n",
       "      <td>None</td>\n",
       "      <td>None</td>\n",
       "      <td>NaN</td>\n",
       "      <td>None</td>\n",
       "      <td>None</td>\n",
       "      <td>NaN</td>\n",
       "      <td>None</td>\n",
       "      <td>sSfX</td>\n",
       "    </tr>\n",
       "    <tr>\n",
       "      <th>v7MegLm5</th>\n",
       "      <th>NaN</th>\n",
       "      <td>ENSG00000244693</td>\n",
       "      <td>None</td>\n",
       "      <td>None</td>\n",
       "      <td>None</td>\n",
       "      <td>NaN</td>\n",
       "      <td>None</td>\n",
       "      <td>None</td>\n",
       "      <td>NaN</td>\n",
       "      <td>None</td>\n",
       "      <td>sSfX</td>\n",
       "    </tr>\n",
       "    <tr>\n",
       "      <th>fVhDZaC4</th>\n",
       "      <th>NaN</th>\n",
       "      <td>ENSG00000258414</td>\n",
       "      <td>None</td>\n",
       "      <td>None</td>\n",
       "      <td>None</td>\n",
       "      <td>NaN</td>\n",
       "      <td>None</td>\n",
       "      <td>None</td>\n",
       "      <td>NaN</td>\n",
       "      <td>None</td>\n",
       "      <td>sSfX</td>\n",
       "    </tr>\n",
       "    <tr>\n",
       "      <th>4FsMcHFE</th>\n",
       "      <th>NaN</th>\n",
       "      <td>ENSG00000272370</td>\n",
       "      <td>None</td>\n",
       "      <td>None</td>\n",
       "      <td>None</td>\n",
       "      <td>NaN</td>\n",
       "      <td>None</td>\n",
       "      <td>None</td>\n",
       "      <td>NaN</td>\n",
       "      <td>None</td>\n",
       "      <td>sSfX</td>\n",
       "    </tr>\n",
       "    <tr>\n",
       "      <th>B1DDYmJI</th>\n",
       "      <th>NaN</th>\n",
       "      <td>ENSG00000261438</td>\n",
       "      <td>None</td>\n",
       "      <td>None</td>\n",
       "      <td>None</td>\n",
       "      <td>NaN</td>\n",
       "      <td>None</td>\n",
       "      <td>None</td>\n",
       "      <td>NaN</td>\n",
       "      <td>None</td>\n",
       "      <td>sSfX</td>\n",
       "    </tr>\n",
       "    <tr>\n",
       "      <th>MQDYZc7I</th>\n",
       "      <th>NaN</th>\n",
       "      <td>ENSG00000286601</td>\n",
       "      <td>None</td>\n",
       "      <td>None</td>\n",
       "      <td>None</td>\n",
       "      <td>NaN</td>\n",
       "      <td>None</td>\n",
       "      <td>None</td>\n",
       "      <td>NaN</td>\n",
       "      <td>None</td>\n",
       "      <td>sSfX</td>\n",
       "    </tr>\n",
       "    <tr>\n",
       "      <th>ySAirL13</th>\n",
       "      <th>NaN</th>\n",
       "      <td>ENSG00000256374</td>\n",
       "      <td>None</td>\n",
       "      <td>None</td>\n",
       "      <td>None</td>\n",
       "      <td>NaN</td>\n",
       "      <td>None</td>\n",
       "      <td>None</td>\n",
       "      <td>NaN</td>\n",
       "      <td>None</td>\n",
       "      <td>sSfX</td>\n",
       "    </tr>\n",
       "  </tbody>\n",
       "</table>\n",
       "</div>"
      ],
      "text/plain": [
       "                  ensembl_gene_id symbol gene_type description  ncbi_gene_id  \\\n",
       "id       version                                                               \n",
       "fk6Q3O0U NaN      ENSG00000286699   None      None        None           NaN   \n",
       "KP2vA5Vv NaN      ENSG00000271409   None      None        None           NaN   \n",
       "xu1Xj3vJ NaN      ENSG00000244952   None      None        None           NaN   \n",
       "WPp81VuU NaN      ENSG00000255823   None      None        None           NaN   \n",
       "v7MegLm5 NaN      ENSG00000244693   None      None        None           NaN   \n",
       "fVhDZaC4 NaN      ENSG00000258414   None      None        None           NaN   \n",
       "4FsMcHFE NaN      ENSG00000272370   None      None        None           NaN   \n",
       "B1DDYmJI NaN      ENSG00000261438   None      None        None           NaN   \n",
       "MQDYZc7I NaN      ENSG00000286601   None      None        None           NaN   \n",
       "ySAirL13 NaN      ENSG00000256374   None      None        None           NaN   \n",
       "\n",
       "                 hgnc_id mgi_id  omim_id synonyms species_id  \n",
       "id       version                                              \n",
       "fk6Q3O0U NaN        None   None      NaN     None       sSfX  \n",
       "KP2vA5Vv NaN        None   None      NaN     None       sSfX  \n",
       "xu1Xj3vJ NaN        None   None      NaN     None       sSfX  \n",
       "WPp81VuU NaN        None   None      NaN     None       sSfX  \n",
       "v7MegLm5 NaN        None   None      NaN     None       sSfX  \n",
       "fVhDZaC4 NaN        None   None      NaN     None       sSfX  \n",
       "4FsMcHFE NaN        None   None      NaN     None       sSfX  \n",
       "B1DDYmJI NaN        None   None      NaN     None       sSfX  \n",
       "MQDYZc7I NaN        None   None      NaN     None       sSfX  \n",
       "ySAirL13 NaN        None   None      NaN     None       sSfX  "
      ]
     },
     "metadata": {},
     "output_type": "display_data"
    },
    {
     "name": "stdout",
     "output_type": "stream",
     "text": [
      "\u001b[1;94m\u001b[1mReadout\u001b[0m\u001b[0m\n"
     ]
    },
    {
     "data": {
      "text/html": [
       "<div>\n",
       "<style scoped>\n",
       "    .dataframe tbody tr th:only-of-type {\n",
       "        vertical-align: middle;\n",
       "    }\n",
       "\n",
       "    .dataframe tbody tr th {\n",
       "        vertical-align: top;\n",
       "    }\n",
       "\n",
       "    .dataframe thead th {\n",
       "        text-align: right;\n",
       "    }\n",
       "</style>\n",
       "<table border=\"1\" class=\"dataframe\">\n",
       "  <thead>\n",
       "    <tr style=\"text-align: right;\">\n",
       "      <th></th>\n",
       "      <th>efo_id</th>\n",
       "      <th>name</th>\n",
       "      <th>molecule</th>\n",
       "      <th>instrument</th>\n",
       "      <th>measurement</th>\n",
       "      <th>created_by</th>\n",
       "      <th>created_at</th>\n",
       "      <th>updated_at</th>\n",
       "    </tr>\n",
       "    <tr>\n",
       "      <th>id</th>\n",
       "      <th></th>\n",
       "      <th></th>\n",
       "      <th></th>\n",
       "      <th></th>\n",
       "      <th></th>\n",
       "      <th></th>\n",
       "      <th></th>\n",
       "      <th></th>\n",
       "    </tr>\n",
       "  </thead>\n",
       "  <tbody>\n",
       "    <tr>\n",
       "      <th>QAjOPfts</th>\n",
       "      <td>None</td>\n",
       "      <td>single-cell RNA sequencing</td>\n",
       "      <td>None</td>\n",
       "      <td>None</td>\n",
       "      <td>None</td>\n",
       "      <td>eut8h4zv</td>\n",
       "      <td>2023-05-21 16:15:50.771114</td>\n",
       "      <td>None</td>\n",
       "    </tr>\n",
       "  </tbody>\n",
       "</table>\n",
       "</div>"
      ],
      "text/plain": [
       "         efo_id                        name molecule instrument measurement  \\\n",
       "id                                                                            \n",
       "QAjOPfts   None  single-cell RNA sequencing     None       None        None   \n",
       "\n",
       "         created_by                 created_at updated_at  \n",
       "id                                                         \n",
       "QAjOPfts   eut8h4zv 2023-05-21 16:15:50.771114       None  "
      ]
     },
     "metadata": {},
     "output_type": "display_data"
    },
    {
     "name": "stdout",
     "output_type": "stream",
     "text": [
      "\u001b[1;94m\u001b[1mSpecies\u001b[0m\u001b[0m\n"
     ]
    },
    {
     "data": {
      "text/html": [
       "<div>\n",
       "<style scoped>\n",
       "    .dataframe tbody tr th:only-of-type {\n",
       "        vertical-align: middle;\n",
       "    }\n",
       "\n",
       "    .dataframe tbody tr th {\n",
       "        vertical-align: top;\n",
       "    }\n",
       "\n",
       "    .dataframe thead th {\n",
       "        text-align: right;\n",
       "    }\n",
       "</style>\n",
       "<table border=\"1\" class=\"dataframe\">\n",
       "  <thead>\n",
       "    <tr style=\"text-align: right;\">\n",
       "      <th></th>\n",
       "      <th>name</th>\n",
       "      <th>taxon_id</th>\n",
       "      <th>scientific_name</th>\n",
       "    </tr>\n",
       "    <tr>\n",
       "      <th>id</th>\n",
       "      <th></th>\n",
       "      <th></th>\n",
       "      <th></th>\n",
       "    </tr>\n",
       "  </thead>\n",
       "  <tbody>\n",
       "    <tr>\n",
       "      <th>sSfX</th>\n",
       "      <td>human</td>\n",
       "      <td>None</td>\n",
       "      <td>None</td>\n",
       "    </tr>\n",
       "  </tbody>\n",
       "</table>\n",
       "</div>"
      ],
      "text/plain": [
       "       name taxon_id scientific_name\n",
       "id                                  \n",
       "sSfX  human     None            None"
      ]
     },
     "metadata": {},
     "output_type": "display_data"
    },
    {
     "name": "stdout",
     "output_type": "stream",
     "text": [
      "\u001b[1;94m\u001b[1mTissue\u001b[0m\u001b[0m\n"
     ]
    },
    {
     "data": {
      "text/html": [
       "<div>\n",
       "<style scoped>\n",
       "    .dataframe tbody tr th:only-of-type {\n",
       "        vertical-align: middle;\n",
       "    }\n",
       "\n",
       "    .dataframe tbody tr th {\n",
       "        vertical-align: top;\n",
       "    }\n",
       "\n",
       "    .dataframe thead th {\n",
       "        text-align: right;\n",
       "    }\n",
       "</style>\n",
       "<table border=\"1\" class=\"dataframe\">\n",
       "  <thead>\n",
       "    <tr style=\"text-align: right;\">\n",
       "      <th></th>\n",
       "      <th>ontology_id</th>\n",
       "      <th>name</th>\n",
       "    </tr>\n",
       "    <tr>\n",
       "      <th>id</th>\n",
       "      <th></th>\n",
       "      <th></th>\n",
       "    </tr>\n",
       "  </thead>\n",
       "  <tbody>\n",
       "    <tr>\n",
       "      <th>Weo9RFmc</th>\n",
       "      <td>None</td>\n",
       "      <td>lymph node</td>\n",
       "    </tr>\n",
       "  </tbody>\n",
       "</table>\n",
       "</div>"
      ],
      "text/plain": [
       "         ontology_id        name\n",
       "id                              \n",
       "Weo9RFmc        None  lymph node"
      ]
     },
     "metadata": {},
     "output_type": "display_data"
    }
   ],
   "source": [
    "ln.view(schema=\"bionty\")"
   ]
  },
  {
   "attachments": {},
   "cell_type": "markdown",
   "id": "043f1481",
   "metadata": {},
   "source": [
    "### Wetlab"
   ]
  },
  {
   "cell_type": "code",
   "execution_count": 21,
   "id": "46fa9e6b",
   "metadata": {},
   "outputs": [
    {
     "name": "stdout",
     "output_type": "stream",
     "text": [
      "******************\n",
      "* module: \u001b[1;92m\u001b[1mlamin1\u001b[0m\u001b[0m *\n",
      "******************\n",
      "\u001b[1;94m\u001b[1mBiosample\u001b[0m\u001b[0m\n"
     ]
    },
    {
     "data": {
      "text/html": [
       "<div>\n",
       "<style scoped>\n",
       "    .dataframe tbody tr th:only-of-type {\n",
       "        vertical-align: middle;\n",
       "    }\n",
       "\n",
       "    .dataframe tbody tr th {\n",
       "        vertical-align: top;\n",
       "    }\n",
       "\n",
       "    .dataframe thead th {\n",
       "        text-align: right;\n",
       "    }\n",
       "</style>\n",
       "<table border=\"1\" class=\"dataframe\">\n",
       "  <thead>\n",
       "    <tr style=\"text-align: right;\">\n",
       "      <th></th>\n",
       "      <th>name</th>\n",
       "      <th>created_by</th>\n",
       "      <th>created_at</th>\n",
       "      <th>updated_at</th>\n",
       "      <th>batch</th>\n",
       "      <th>species_id</th>\n",
       "      <th>tissue_id</th>\n",
       "      <th>cell_type_id</th>\n",
       "      <th>disease_id</th>\n",
       "    </tr>\n",
       "    <tr>\n",
       "      <th>id</th>\n",
       "      <th></th>\n",
       "      <th></th>\n",
       "      <th></th>\n",
       "      <th></th>\n",
       "      <th></th>\n",
       "      <th></th>\n",
       "      <th></th>\n",
       "      <th></th>\n",
       "      <th></th>\n",
       "    </tr>\n",
       "  </thead>\n",
       "  <tbody>\n",
       "    <tr>\n",
       "      <th>on5SsBJxryzXTMtzjZmI</th>\n",
       "      <td>Mouse Lymph Node</td>\n",
       "      <td>eut8h4zv</td>\n",
       "      <td>2023-05-21 16:15:50.771114</td>\n",
       "      <td>None</td>\n",
       "      <td>None</td>\n",
       "      <td>None</td>\n",
       "      <td>Weo9RFmc</td>\n",
       "      <td>None</td>\n",
       "      <td>None</td>\n",
       "    </tr>\n",
       "  </tbody>\n",
       "</table>\n",
       "</div>"
      ],
      "text/plain": [
       "                                  name created_by                 created_at  \\\n",
       "id                                                                             \n",
       "on5SsBJxryzXTMtzjZmI  Mouse Lymph Node   eut8h4zv 2023-05-21 16:15:50.771114   \n",
       "\n",
       "                     updated_at batch species_id tissue_id cell_type_id  \\\n",
       "id                                                                        \n",
       "on5SsBJxryzXTMtzjZmI       None  None       None  Weo9RFmc         None   \n",
       "\n",
       "                     disease_id  \n",
       "id                               \n",
       "on5SsBJxryzXTMtzjZmI       None  "
      ]
     },
     "metadata": {},
     "output_type": "display_data"
    }
   ],
   "source": [
    "ln.view(schema=\"lamin1\")"
   ]
  },
  {
   "cell_type": "code",
   "execution_count": 22,
   "id": "063136ef",
   "metadata": {
    "tags": [
     "hide-cell"
    ]
   },
   "outputs": [
    {
     "ename": "NoResultFound",
     "evalue": "()",
     "output_type": "error",
     "traceback": [
      "\u001b[0;31m---------------------------------------------------------------------------\u001b[0m",
      "\u001b[0;31mNoResultFound\u001b[0m                             Traceback (most recent call last)",
      "Cell \u001b[0;32mIn[22], line 3\u001b[0m\n\u001b[1;32m      1\u001b[0m \u001b[39m# integrity checks\u001b[39;00m\n\u001b[1;32m      2\u001b[0m \u001b[39mwith\u001b[39;00m ln\u001b[39m.\u001b[39mSession() \u001b[39mas\u001b[39;00m ss:\n\u001b[0;32m----> 3\u001b[0m     mouselymph \u001b[39m=\u001b[39m ss\u001b[39m.\u001b[39;49mselect(ln\u001b[39m.\u001b[39;49mFile, name\u001b[39m=\u001b[39;49m\u001b[39m\"\u001b[39;49m\u001b[39mMouse Lymph Node scRNA-seq\u001b[39;49m\u001b[39m\"\u001b[39;49m)\u001b[39m.\u001b[39;49mone()\n\u001b[1;32m      5\u001b[0m     mouselymph_hash \u001b[39m=\u001b[39m mouselymph\u001b[39m.\u001b[39mhash\n\u001b[1;32m      6\u001b[0m     \u001b[39massert\u001b[39;00m mouselymph_hash \u001b[39m==\u001b[39m \u001b[39m\"\u001b[39m\u001b[39mQprqj0O23197Ko-VobaZiw\u001b[39m\u001b[39m\"\u001b[39m\n",
      "File \u001b[0;32m~/miniconda3/envs/lamin/lib/python3.10/site-packages/lamindb/dev/db/_select.py:150\u001b[0m, in \u001b[0;36mExecStmt.one\u001b[0;34m(self)\u001b[0m\n\u001b[1;32m    148\u001b[0m \u001b[39mself\u001b[39m\u001b[39m.\u001b[39m_execute()\n\u001b[1;32m    149\u001b[0m \u001b[39mif\u001b[39;00m \u001b[39mlen\u001b[39m(\u001b[39mself\u001b[39m\u001b[39m.\u001b[39m_result) \u001b[39m==\u001b[39m \u001b[39m0\u001b[39m:\n\u001b[0;32m--> 150\u001b[0m     \u001b[39mraise\u001b[39;00m NoResultFound\n\u001b[1;32m    151\u001b[0m \u001b[39melif\u001b[39;00m \u001b[39mlen\u001b[39m(\u001b[39mself\u001b[39m\u001b[39m.\u001b[39m_result) \u001b[39m>\u001b[39m \u001b[39m1\u001b[39m:\n\u001b[1;32m    152\u001b[0m     \u001b[39mraise\u001b[39;00m MultipleResultsFound\n",
      "\u001b[0;31mNoResultFound\u001b[0m: ()"
     ]
    }
   ],
   "source": [
    "# integrity checks\n",
    "with ln.Session() as ss:\n",
    "    mouselymph = ss.select(ln.File, name=\"Mouse Lymph Node scRNA-seq\").one()\n",
    "\n",
    "    mouselymph_hash = mouselymph.hash\n",
    "    assert mouselymph_hash == \"Qprqj0O23197Ko-VobaZiw\"\n",
    "\n",
    "    mouselymph_features_hash = mouselymph.features[0].id\n",
    "    assert mouselymph_features_hash == \"2Mv3JtH-ScBVYHilbLaQ\""
   ]
  }
 ],
 "metadata": {
  "kernelspec": {
   "display_name": "Python 3 (ipykernel)",
   "language": "python",
   "name": "python3"
  },
  "language_info": {
   "codemirror_mode": {
    "name": "ipython",
    "version": 3
   },
   "file_extension": ".py",
   "mimetype": "text/x-python",
   "name": "python",
   "nbconvert_exporter": "python",
   "pygments_lexer": "ipython3",
   "version": "3.10.11"
  },
  "nbproject": {
   "id": "zMCvXplQ8kTk",
   "parent": null,
   "pypackage": null,
   "time_init": "2022-09-02T14:11:03.230995+00:00",
   "version": "0"
  },
  "vscode": {
   "interpreter": {
    "hash": "ae1fefc8646a06dd2e75004cd934adda7c5727b046986a772e3b44b0ffba9754"
   }
  }
 },
 "nbformat": 4,
 "nbformat_minor": 5
}
